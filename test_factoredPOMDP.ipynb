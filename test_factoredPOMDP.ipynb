{
 "cells": [
  {
   "cell_type": "code",
   "execution_count": 1,
   "metadata": {
    "collapsed": false
   },
   "outputs": [
    {
     "name": "stderr",
     "output_type": "stream",
     "text": [
      "\u001b[1m\u001b[36mINFO: \u001b[39m\u001b[22m\u001b[36mLoading HttpServer methods...\n",
      "\u001b[39m"
     ]
    },
    {
     "data": {
      "text/html": [
       "    <script class='js-collapse-script'>\n",
       "        var curMatch =\n",
       "            window.location.href\n",
       "            .match(/(.*?)\\/notebooks\\/.*\\.ipynb/);\n",
       "\n",
       "        curMatch = curMatch ||\n",
       "            window.location.href\n",
       "            .match(/(.*?)\\/apps\\/.*\\.ipynb/);\n",
       "\n",
       "        if ( curMatch ) {\n",
       "            $('head').append('<base href=\"' + curMatch[1] + '/\">');\n",
       "        }\n",
       "    </script>\n"
      ],
      "text/plain": [
       "HTML{String}(\"    <script class='js-collapse-script'>\\n        var curMatch =\\n            window.location.href\\n            .match(/(.*?)\\\\/notebooks\\\\/.*\\\\.ipynb/);\\n\\n        curMatch = curMatch ||\\n            window.location.href\\n            .match(/(.*?)\\\\/apps\\\\/.*\\\\.ipynb/);\\n\\n        if ( curMatch ) {\\n            \\$('head').append('<base href=\\\"' + curMatch[1] + '/\\\">');\\n        }\\n    </script>\\n\")"
      ]
     },
     "metadata": {},
     "output_type": "display_data"
    },
    {
     "data": {
      "text/html": [
       "<script class='js-collapse-script' src='/assetserver/6742f1d4bb6b0d11739caa58ab9c3398989375a3-assets/webio/dist/bundle.js'></script>"
      ],
      "text/plain": [
       "HTML{String}(\"<script class='js-collapse-script' src='/assetserver/6742f1d4bb6b0d11739caa58ab9c3398989375a3-assets/webio/dist/bundle.js'></script>\")"
      ]
     },
     "metadata": {},
     "output_type": "display_data"
    },
    {
     "data": {
      "text/html": [
       "<script class='js-collapse-script' src='/assetserver/6742f1d4bb6b0d11739caa58ab9c3398989375a3-assets/providers/ijulia_setup.js'></script>"
      ],
      "text/plain": [
       "HTML{String}(\"<script class='js-collapse-script' src='/assetserver/6742f1d4bb6b0d11739caa58ab9c3398989375a3-assets/providers/ijulia_setup.js'></script>\")"
      ]
     },
     "metadata": {},
     "output_type": "display_data"
    },
    {
     "data": {
      "text/html": [
       "  <script class='js-collapse-script'>\n",
       "    $('.js-collapse-script').parent('.output_subarea').css('padding', '0');\n",
       "  </script>\n"
      ],
      "text/plain": [
       "HTML{String}(\"  <script class='js-collapse-script'>\\n    \\$('.js-collapse-script').parent('.output_subarea').css('padding', '0');\\n  </script>\\n\")"
      ]
     },
     "metadata": {},
     "output_type": "display_data"
    },
    {
     "name": "stderr",
     "output_type": "stream",
     "text": [
      "WARNING: Method definition show(IO, macrotraffic.Flow) in module macrotraffic at /media/mSATA/.julia/v0.6/Parameters/src/Parameters.jl:549 overwritten at /media/mSATA/UM/Traffic Assignment/macrotraffic.jl:666.\n"
     ]
    }
   ],
   "source": [
    "using POMDPs\n",
    "using POMDPToolbox\n",
    "using MCTS\n",
    "using ParticleFilters\n",
    "using BasicPOMCP\n",
    "using FPOMCPOW\n",
    "\n",
    "include(\"macrotraffic.jl\")\n",
    "include(\"jointDTA.jl\")\n",
    "using jointDTA"
   ]
  },
  {
   "cell_type": "code",
   "execution_count": 30,
   "metadata": {
    "collapsed": false
   },
   "outputs": [
    {
     "data": {
      "text/plain": [
       "jointDTA.DTAPOMDP\n",
       "  mdp: jointDTA.DTAMDP\n",
       "  obs_std: Float64 60.0\n"
      ]
     },
     "execution_count": 30,
     "metadata": {},
     "output_type": "execute_result"
    }
   ],
   "source": [
    "pomdp = DTAPOMDP(mdp=DTAMDP(lambdas=[0.8,0.8,0.8,0.8,0.8,0.8,0.8,0.8,0.8,0.8], actiondev=2,\n",
    "joint_action_groups=[[1,2,3], [4,5,6],[7,8],[9,10]],E=4,numagents=10,\n",
    "elimination_order=[2,3,4,5,1,6,7,9,8,10]),obs_std = 60)"
   ]
  },
  {
   "cell_type": "code",
   "execution_count": 3,
   "metadata": {
    "collapsed": false
   },
   "outputs": [
    {
     "data": {
      "text/plain": [
       "jointDTA.DTAPOMDP\n",
       "  mdp: jointDTA.DTAMDP\n",
       "  obs_std: Float64 60.0\n"
      ]
     },
     "execution_count": 3,
     "metadata": {},
     "output_type": "execute_result"
    }
   ],
   "source": [
    "pomdp = DTAPOMDP(mdp=DTAMDP(lambdas=[0.8,0.8,0.8,0.8,0.8,0.8],\n",
    "joint_action_groups=[[1,2],[3,4],[5,6]],E=3,numagents=6,\n",
    "elimination_order=[2,3,4,5,1,6]),obs_std = 60)"
   ]
  },
  {
   "cell_type": "code",
   "execution_count": null,
   "metadata": {
    "collapsed": false
   },
   "outputs": [],
   "source": []
  },
  {
   "cell_type": "code",
   "execution_count": 31,
   "metadata": {
    "collapsed": false
   },
   "outputs": [
    {
     "data": {
      "text/plain": [
       "1024-element Array{Union{Array{jointDTA.DTAjoint,1}, jointDTA.DTAjoint},1}:\n",
       " jointDTA.DTAjoint[jointDTA.DTAjoint(1, 1), jointDTA.DTAjoint(2, 1), jointDTA.DTAjoint(3, 1), jointDTA.DTAjoint(4, 1)]\n",
       " jointDTA.DTAjoint[jointDTA.DTAjoint(1, 2), jointDTA.DTAjoint(2, 1), jointDTA.DTAjoint(3, 1), jointDTA.DTAjoint(4, 1)]\n",
       " jointDTA.DTAjoint[jointDTA.DTAjoint(1, 3), jointDTA.DTAjoint(2, 1), jointDTA.DTAjoint(3, 1), jointDTA.DTAjoint(4, 1)]\n",
       " jointDTA.DTAjoint[jointDTA.DTAjoint(1, 4), jointDTA.DTAjoint(2, 1), jointDTA.DTAjoint(3, 1), jointDTA.DTAjoint(4, 1)]\n",
       " jointDTA.DTAjoint[jointDTA.DTAjoint(1, 5), jointDTA.DTAjoint(2, 1), jointDTA.DTAjoint(3, 1), jointDTA.DTAjoint(4, 1)]\n",
       " jointDTA.DTAjoint[jointDTA.DTAjoint(1, 6), jointDTA.DTAjoint(2, 1), jointDTA.DTAjoint(3, 1), jointDTA.DTAjoint(4, 1)]\n",
       " jointDTA.DTAjoint[jointDTA.DTAjoint(1, 7), jointDTA.DTAjoint(2, 1), jointDTA.DTAjoint(3, 1), jointDTA.DTAjoint(4, 1)]\n",
       " jointDTA.DTAjoint[jointDTA.DTAjoint(1, 8), jointDTA.DTAjoint(2, 1), jointDTA.DTAjoint(3, 1), jointDTA.DTAjoint(4, 1)]\n",
       " jointDTA.DTAjoint[jointDTA.DTAjoint(1, 1), jointDTA.DTAjoint(2, 2), jointDTA.DTAjoint(3, 1), jointDTA.DTAjoint(4, 1)]\n",
       " jointDTA.DTAjoint[jointDTA.DTAjoint(1, 2), jointDTA.DTAjoint(2, 2), jointDTA.DTAjoint(3, 1), jointDTA.DTAjoint(4, 1)]\n",
       " jointDTA.DTAjoint[jointDTA.DTAjoint(1, 3), jointDTA.DTAjoint(2, 2), jointDTA.DTAjoint(3, 1), jointDTA.DTAjoint(4, 1)]\n",
       " jointDTA.DTAjoint[jointDTA.DTAjoint(1, 4), jointDTA.DTAjoint(2, 2), jointDTA.DTAjoint(3, 1), jointDTA.DTAjoint(4, 1)]\n",
       " jointDTA.DTAjoint[jointDTA.DTAjoint(1, 5), jointDTA.DTAjoint(2, 2), jointDTA.DTAjoint(3, 1), jointDTA.DTAjoint(4, 1)]\n",
       " ⋮                                                                                                                    \n",
       " jointDTA.DTAjoint[jointDTA.DTAjoint(1, 5), jointDTA.DTAjoint(2, 7), jointDTA.DTAjoint(3, 4), jointDTA.DTAjoint(4, 4)]\n",
       " jointDTA.DTAjoint[jointDTA.DTAjoint(1, 6), jointDTA.DTAjoint(2, 7), jointDTA.DTAjoint(3, 4), jointDTA.DTAjoint(4, 4)]\n",
       " jointDTA.DTAjoint[jointDTA.DTAjoint(1, 7), jointDTA.DTAjoint(2, 7), jointDTA.DTAjoint(3, 4), jointDTA.DTAjoint(4, 4)]\n",
       " jointDTA.DTAjoint[jointDTA.DTAjoint(1, 8), jointDTA.DTAjoint(2, 7), jointDTA.DTAjoint(3, 4), jointDTA.DTAjoint(4, 4)]\n",
       " jointDTA.DTAjoint[jointDTA.DTAjoint(1, 1), jointDTA.DTAjoint(2, 8), jointDTA.DTAjoint(3, 4), jointDTA.DTAjoint(4, 4)]\n",
       " jointDTA.DTAjoint[jointDTA.DTAjoint(1, 2), jointDTA.DTAjoint(2, 8), jointDTA.DTAjoint(3, 4), jointDTA.DTAjoint(4, 4)]\n",
       " jointDTA.DTAjoint[jointDTA.DTAjoint(1, 3), jointDTA.DTAjoint(2, 8), jointDTA.DTAjoint(3, 4), jointDTA.DTAjoint(4, 4)]\n",
       " jointDTA.DTAjoint[jointDTA.DTAjoint(1, 4), jointDTA.DTAjoint(2, 8), jointDTA.DTAjoint(3, 4), jointDTA.DTAjoint(4, 4)]\n",
       " jointDTA.DTAjoint[jointDTA.DTAjoint(1, 5), jointDTA.DTAjoint(2, 8), jointDTA.DTAjoint(3, 4), jointDTA.DTAjoint(4, 4)]\n",
       " jointDTA.DTAjoint[jointDTA.DTAjoint(1, 6), jointDTA.DTAjoint(2, 8), jointDTA.DTAjoint(3, 4), jointDTA.DTAjoint(4, 4)]\n",
       " jointDTA.DTAjoint[jointDTA.DTAjoint(1, 7), jointDTA.DTAjoint(2, 8), jointDTA.DTAjoint(3, 4), jointDTA.DTAjoint(4, 4)]\n",
       " jointDTA.DTAjoint[jointDTA.DTAjoint(1, 8), jointDTA.DTAjoint(2, 8), jointDTA.DTAjoint(3, 4), jointDTA.DTAjoint(4, 4)]"
      ]
     },
     "execution_count": 31,
     "metadata": {},
     "output_type": "execute_result"
    }
   ],
   "source": [
    "actions = generate_actions(pomdp)"
   ]
  },
  {
   "cell_type": "code",
   "execution_count": 32,
   "metadata": {
    "collapsed": false
   },
   "outputs": [],
   "source": [
    "(O, J, G) = generate_orders(pomdp);"
   ]
  },
  {
   "cell_type": "code",
   "execution_count": 6,
   "metadata": {
    "collapsed": false
   },
   "outputs": [
    {
     "data": {
      "text/plain": [
       "Dict{Any,Any} with 11 entries:\n",
       "  Any[2]  => (9, -7)\n",
       "  Any[1]  => (9, -7)\n",
       "  Any[11] => (9, -7)\n",
       "  Any[7]  => (9, -7)\n",
       "  Any[6]  => (9, -7)\n",
       "  Any[5]  => (9, -7)\n",
       "  Any[9]  => (9, -7)\n",
       "  Any[8]  => (9, -7)\n",
       "  Any[10] => (9, -7)\n",
       "  Any[3]  => (9, -7)\n",
       "  Any[4]  => (9, -7)"
      ]
     },
     "execution_count": 6,
     "metadata": {},
     "output_type": "execute_result"
    }
   ],
   "source": [
    "O[6]"
   ]
  },
  {
   "cell_type": "code",
   "execution_count": 7,
   "metadata": {
    "collapsed": false
   },
   "outputs": [
    {
     "data": {
      "text/plain": [
       "11-element Array{Any,1}:\n",
       " Any[jointDTA.DTAjoint(5, 1)] \n",
       " Any[jointDTA.DTAjoint(5, 2)] \n",
       " Any[jointDTA.DTAjoint(5, 3)] \n",
       " Any[jointDTA.DTAjoint(5, 4)] \n",
       " Any[jointDTA.DTAjoint(5, 5)] \n",
       " Any[jointDTA.DTAjoint(5, 6)] \n",
       " Any[jointDTA.DTAjoint(5, 7)] \n",
       " Any[jointDTA.DTAjoint(5, 8)] \n",
       " Any[jointDTA.DTAjoint(5, 9)] \n",
       " Any[jointDTA.DTAjoint(5, 10)]\n",
       " Any[jointDTA.DTAjoint(5, 11)]"
      ]
     },
     "execution_count": 7,
     "metadata": {},
     "output_type": "execute_result"
    }
   ],
   "source": [
    "J[3]"
   ]
  },
  {
   "cell_type": "code",
   "execution_count": 8,
   "metadata": {
    "collapsed": false
   },
   "outputs": [
    {
     "data": {
      "text/plain": [
       "9-element Array{Array{Int64,1},1}:\n",
       " [1, 2] \n",
       " [3, 4] \n",
       " [5, 6] \n",
       " [1]    \n",
       " [4]    \n",
       " Int64[]\n",
       " [6]    \n",
       " Int64[]\n",
       " Int64[]"
      ]
     },
     "execution_count": 8,
     "metadata": {},
     "output_type": "execute_result"
    }
   ],
   "source": [
    "G"
   ]
  },
  {
   "cell_type": "code",
   "execution_count": 9,
   "metadata": {
    "collapsed": false
   },
   "outputs": [
    {
     "ename": "LoadError",
     "evalue": "\u001b[91mtype Int64 has no field nodeidx\u001b[39m",
     "output_type": "error",
     "traceback": [
      "\u001b[91mtype Int64 has no field nodeidx\u001b[39m",
      "",
      "Stacktrace:",
      " [1] \u001b[1mmacro expansion\u001b[22m\u001b[22m at \u001b[1m./In[9]:3\u001b[22m\u001b[22m [inlined]",
      " [2] \u001b[1manonymous\u001b[22m\u001b[22m at \u001b[1m./<missing>:?\u001b[22m\u001b[22m",
      " [3] \u001b[1minclude_string\u001b[22m\u001b[22m\u001b[1m(\u001b[22m\u001b[22m::String, ::String\u001b[1m)\u001b[22m\u001b[22m at \u001b[1m./loading.jl:515\u001b[22m\u001b[22m"
     ]
    }
   ],
   "source": [
    "d = Tuple([0:10 for i=1:2])\n",
    "for a in keys(O[1])\n",
    "    assert(ind2sub(d, a[1].nodeidx)[2] == ind2sub(d, a[2].nodeidx)[1])\n",
    "    assert(ind2sub(d, a[1].nodeidx)[1] == ind2sub(d, O[1][a][2])[1])\n",
    "    assert(ind2sub(d, a[2].nodeidx)[2] == ind2sub(d, O[1][a][2])[2])\n",
    "end\n",
    " "
   ]
  },
  {
   "cell_type": "code",
   "execution_count": 10,
   "metadata": {
    "collapsed": false
   },
   "outputs": [
    {
     "ename": "LoadError",
     "evalue": "\u001b[91mtype Int64 has no field nodeidx\u001b[39m",
     "output_type": "error",
     "traceback": [
      "\u001b[91mtype Int64 has no field nodeidx\u001b[39m",
      "",
      "Stacktrace:",
      " [1] \u001b[1mmacro expansion\u001b[22m\u001b[22m at \u001b[1m./In[10]:3\u001b[22m\u001b[22m [inlined]",
      " [2] \u001b[1manonymous\u001b[22m\u001b[22m at \u001b[1m./<missing>:?\u001b[22m\u001b[22m",
      " [3] \u001b[1minclude_string\u001b[22m\u001b[22m\u001b[1m(\u001b[22m\u001b[22m::String, ::String\u001b[1m)\u001b[22m\u001b[22m at \u001b[1m./loading.jl:515\u001b[22m\u001b[22m"
     ]
    }
   ],
   "source": [
    "d = Tuple([0:10 for i=1:2])\n",
    "for a in keys(O[2])\n",
    "    assert(ind2sub(d, a[1].nodeidx)[2] == O[2][a][2]-1)\n",
    "end"
   ]
  },
  {
   "cell_type": "code",
   "execution_count": 38,
   "metadata": {
    "collapsed": false
   },
   "outputs": [],
   "source": [
    "h = 1\n",
    "rng = MersenneTwister(19);\n",
    "solver = POMCPOWSolver(tree_queries = 10000,\n",
    "criterion=MaxUCB(20.0),\n",
    "max_depth=12,\n",
    "max_time=10.0,\n",
    "#k_action=20,\n",
    "enable_action_pw=false,\n",
    "k_observation=20,\n",
    "check_repeat_obs=false,\n",
    "check_repeat_act=false,\n",
    "rng=rng);\n",
    "planner = solve(solver, pomdp);\n",
    "filter = ObsAdaptiveParticleFilter(deepcopy(pomdp), LowVarianceResampler(10), 0.05, MersenneTwister(10));\n",
    "b = initialize_belief(filter, initial_state_distribution(pomdp))\n",
    "tree = make_tree(planner, b);\n",
    "for e = 1:planner.problem.mdp.E\n",
    "    tree.tried[(h, e)] = Int[]\n",
    "end\n",
    "action_space_iter = planner.problem.mdp.joint_actions\n",
    "for jj in action_space_iter\n",
    "    for ja in jj\n",
    "        push_joint_anode!(tree, h, ja,\n",
    "        init_N(planner.init_N, planner.problem, POWTreeObsNode(tree, h), ja), rand(rng), false)\n",
    "                            #init_V(planner.init_V, planner.problem, POWTreeObsNode(tree, h), ja),\n",
    "                            #false)\n",
    "    end\n",
    "end"
   ]
  },
  {
   "cell_type": "code",
   "execution_count": 39,
   "metadata": {
    "collapsed": false
   },
   "outputs": [],
   "source": [
    "h_node = POWTreeObsNode(tree,1);"
   ]
  },
  {
   "cell_type": "code",
   "execution_count": 40,
   "metadata": {
    "collapsed": false
   },
   "outputs": [
    {
     "data": {
      "text/plain": [
       "4-element Array{Int64,1}:\n",
       "  5\n",
       " 14\n",
       " 20\n",
       " 22"
      ]
     },
     "execution_count": 40,
     "metadata": {},
     "output_type": "execute_result"
    }
   ],
   "source": [
    "MaxUCBflat = MaxUCBjointflat{typeof(actions[1])}(20, actions);\n",
    "select_best(MaxUCBflat, h_node, rng)"
   ]
  },
  {
   "cell_type": "code",
   "execution_count": 41,
   "metadata": {
    "collapsed": false
   },
   "outputs": [
    {
     "data": {
      "text/plain": [
       "4-element Array{Int64,1}:\n",
       "  5\n",
       " 14\n",
       " 20\n",
       " 22"
      ]
     },
     "execution_count": 41,
     "metadata": {},
     "output_type": "execute_result"
    }
   ],
   "source": [
    "MaxUCBVE = MaxUCBjointVE(20,planner.problem.mdp.E, O, J);\n",
    "select_best(MaxUCBVE, h_node, rng)"
   ]
  },
  {
   "cell_type": "code",
   "execution_count": 15,
   "metadata": {
    "collapsed": false
   },
   "outputs": [
    {
     "data": {
      "text/plain": [
       "2.978409959905684"
      ]
     },
     "execution_count": 15,
     "metadata": {},
     "output_type": "execute_result"
    }
   ],
   "source": [
    "tree.v[18]+tree.v[210]+tree.v[287]"
   ]
  },
  {
   "cell_type": "code",
   "execution_count": 16,
   "metadata": {
    "collapsed": false
   },
   "outputs": [
    {
     "ename": "LoadError",
     "evalue": "\u001b[91mBoundsError: attempt to access 363-element Array{Float64,1} at index [980]\u001b[39m",
     "output_type": "error",
     "traceback": [
      "\u001b[91mBoundsError: attempt to access 363-element Array{Float64,1} at index [980]\u001b[39m",
      "",
      "Stacktrace:",
      " [1] \u001b[1mgetindex\u001b[22m\u001b[22m\u001b[1m(\u001b[22m\u001b[22m::Array{Float64,1}, ::Int64\u001b[1m)\u001b[22m\u001b[22m at \u001b[1m./array.jl:520\u001b[22m\u001b[22m",
      " [2] \u001b[1minclude_string\u001b[22m\u001b[22m\u001b[1m(\u001b[22m\u001b[22m::String, ::String\u001b[1m)\u001b[22m\u001b[22m at \u001b[1m./loading.jl:515\u001b[22m\u001b[22m"
     ]
    }
   ],
   "source": [
    "tree.v[120]+tree.v[980]+tree.v[287]"
   ]
  },
  {
   "cell_type": "code",
   "execution_count": 17,
   "metadata": {
    "collapsed": false
   },
   "outputs": [
    {
     "data": {
      "text/plain": [
       "121-element Array{Int64,1}:\n",
       " 122\n",
       " 123\n",
       " 124\n",
       " 125\n",
       " 126\n",
       " 127\n",
       " 128\n",
       " 129\n",
       " 130\n",
       " 131\n",
       " 132\n",
       " 133\n",
       " 134\n",
       "   ⋮\n",
       " 231\n",
       " 232\n",
       " 233\n",
       " 234\n",
       " 235\n",
       " 236\n",
       " 237\n",
       " 238\n",
       " 239\n",
       " 240\n",
       " 241\n",
       " 242"
      ]
     },
     "execution_count": 17,
     "metadata": {},
     "output_type": "execute_result"
    }
   ],
   "source": [
    "tree.tried[(1,2)]"
   ]
  },
  {
   "cell_type": "code",
   "execution_count": 18,
   "metadata": {
    "collapsed": false
   },
   "outputs": [
    {
     "data": {
      "text/plain": [
       "4-element Array{Int64,1}:\n",
       " 0\n",
       " 0\n",
       " 0\n",
       " 0"
      ]
     },
     "execution_count": 18,
     "metadata": {},
     "output_type": "execute_result"
    }
   ],
   "source": [
    "zeros(Int, 4)"
   ]
  },
  {
   "cell_type": "code",
   "execution_count": null,
   "metadata": {
    "collapsed": true
   },
   "outputs": [],
   "source": []
  }
 ],
 "metadata": {
  "kernelspec": {
   "display_name": "Julia 0.6.0",
   "language": "julia",
   "name": "julia-0.6"
  },
  "language_info": {
   "file_extension": ".jl",
   "mimetype": "application/julia",
   "name": "julia",
   "version": "0.6.0"
  }
 },
 "nbformat": 4,
 "nbformat_minor": 0
}
